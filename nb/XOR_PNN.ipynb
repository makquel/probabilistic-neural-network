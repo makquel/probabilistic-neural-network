{
 "cells": [
  {
   "cell_type": "code",
   "execution_count": 98,
   "metadata": {},
   "outputs": [],
   "source": [
    "import numpy as np\n",
    "import pandas as pd\n",
    "from numpy import genfromtxt\n",
    "import matplotlib.pyplot as plt\n",
    "import seaborn as sns\n",
    "%matplotlib inline"
   ]
  },
  {
   "cell_type": "code",
   "execution_count": 218,
   "metadata": {},
   "outputs": [],
   "source": [
    "'''\n",
    "Exclusive OR (XOR) Boolean function is a typical example of \n",
    "a nonlinearly separable problem\n",
    "'''\n",
    "\n",
    "X = np.array([[0,0],[0,1],[1,0],[1,1]])\n",
    "y = np.array([[0],[1],[1],[0]])\n",
    "X_test = X\n",
    "X_train = X"
   ]
  },
  {
   "cell_type": "code",
   "execution_count": 219,
   "metadata": {},
   "outputs": [],
   "source": [
    "# n_classes = len(my_data.groupby('<class_name_space>''))\n",
    "n_classes = len(np.unique(y))\n",
    "sigma = 0.5\n",
    "\n",
    "sigma_ = sigma*np.identity(len(y))\n",
    "prob = np.zeros((X_test.shape[0],n_classes))\n",
    "\n",
    "# z-score normalization/scaling\n",
    "for i in range(0,X.shape[1]):       \n",
    "#     y[i] = (y[i] - np.mean(X[:,i]))/np.std(X[:,i])\n",
    "    X[:,i] =  (X[:,i] - np.mean(X[:,i]))/np.std(X[:,i])\n",
    "\n",
    "## loop through all the X_test data (unclassified points)\n",
    "for point in range(0,X_test.shape[0]):\n",
    "    x_test = X_test[point,:] \n",
    "#     print(x_test)\n",
    "    ## loop through i-th class\n",
    "    for i in range(0,n_classes):\n",
    "        X_i = X[np.where(y==i)[0],:]\n",
    "        summ = 0.\n",
    "        ## loop through j-th element of the i-th class\n",
    "        for j in range(0,X_i.shape[0]):\n",
    "            ## norm L2 (sum of squares)\n",
    "            norm = .0\n",
    "            ## loop through k-th feature\n",
    "            for k in range(0,X_i.shape[1]):\n",
    "                ## TODO: covariance form X*M*X'\n",
    "                norm = norm + (X_i[j,k]-x_test[k])*(X_i[j,k]-x_test[k])  \n",
    "            ## Summation of Gaussians\n",
    "            summ = summ + np.exp((-1/2)*(1/(sigma**2))*norm)\n",
    "        ## Average of Parzen Window (normalization term)\n",
    "        summ = summ/X_i.shape[0]\n",
    "        ## Decision boundary\n",
    "        prob[point, (i-1)] = summ"
   ]
  },
  {
   "cell_type": "code",
   "execution_count": 220,
   "metadata": {},
   "outputs": [],
   "source": [
    "# # argmax of each \n",
    "y_prob = np.asarray([max(prob[i,:]) for i in range(0,prob.shape[0])])\n",
    "y_bar = np.asarray([np.where(prob[ix,:] == max(prob[ix,:]))[0][0] for ix in range(0,prob.shape[0])])"
   ]
  },
  {
   "cell_type": "code",
   "execution_count": 224,
   "metadata": {},
   "outputs": [
    {
     "data": {
      "text/plain": [
       "array([[1],\n",
       "       [0],\n",
       "       [0],\n",
       "       [1]])"
      ]
     },
     "execution_count": 224,
     "metadata": {},
     "output_type": "execute_result"
    }
   ],
   "source": [
    "y_bar.reshape(-1,1)"
   ]
  }
 ],
 "metadata": {
  "kernelspec": {
   "display_name": "Python 3",
   "language": "python",
   "name": "python3"
  },
  "language_info": {
   "codemirror_mode": {
    "name": "ipython",
    "version": 3
   },
   "file_extension": ".py",
   "mimetype": "text/x-python",
   "name": "python",
   "nbconvert_exporter": "python",
   "pygments_lexer": "ipython3",
   "version": "3.6.10"
  }
 },
 "nbformat": 4,
 "nbformat_minor": 4
}
