{
 "cells": [
  {
   "cell_type": "code",
   "execution_count": 98,
   "metadata": {},
   "outputs": [],
   "source": [
    "import numpy as np\n",
    "import pandas as pd\n",
    "from numpy import genfromtxt\n",
    "import matplotlib.pyplot as plt\n",
    "import seaborn as sns\n",
    "%matplotlib inline"
   ]
  },
  {
   "cell_type": "code",
   "execution_count": 156,
   "metadata": {},
   "outputs": [],
   "source": [
    "def pnn(X_train,X_i, sigma):\n",
    "    '''\n",
    "    Probabilistic neural network \n",
    "    Using  Parzen-window\n",
    "    X = train data\n",
    "    y = test data\n",
    "    '''\n",
    "    ## z-score normalization/scaling\n",
    "#     for i in range(0,X.shape[1]):       \n",
    "#             y[i] = (y[i] - np.mean(X[:,i]))/np.std(X[:,i])\n",
    "#             X[:,i] =  (X[:,i] - np.mean(X[:,i]))/np.std(X[:,i])\n",
    "\n",
    "    \n",
    "    # ** PATTERN LAYER **\n",
    "    Sum = .0\n",
    "    for j in range(0,X_train.shape[0]):\n",
    "        Sum = Sum + np.exp((-1/2)*(sum((X_train[j,:] - X_i)*(X_train[j,:] - X_i))/(sigma**2)))\n",
    "    prob = Sum/X_train.shape[0]\n",
    "    \n",
    "    return prob\n",
    "\n",
    "def pnn_classifier(X,y,sigma):\n",
    "    '''\n",
    "    \n",
    "    X = n-dimension raw data\n",
    "    y = class type prefered to be an int number\n",
    "    '''\n",
    "    \n",
    "    r = np.random.permutation(X.shape[0])\n",
    "    X = X[r,:]\n",
    "    y = y[r,:]\n",
    "    N = len(np.unique(y))\n",
    "    prob = np.zeros((X.shape[0],N))\n",
    "    \n",
    "    for i in range(0,X.shape[0]):\n",
    "        x_i = X[i,:]\n",
    "        x_new = np.delete(X, i, 0)\n",
    "        y_new = np.delete(y, i, 0)\n",
    "        \n",
    "        for j in range(0,N):\n",
    "            k = np.where(y == 1)[0]\n",
    "            xtrain = x_new[k,:]\n",
    "            prob[i, j] = pnn(xtrain, x_i,sigma) \n",
    "        \n",
    "    dec =  np.zeros((X.shape[0],1))   \n",
    "    \n",
    "    for ix in range(0,X.shape[0]):\n",
    "        argmax = np.where(prob[ix,:] == max(prob[ix,:]))[0][0]\n",
    "        dec[ix] = prob[ix,argmax]-1\n",
    "    \n",
    "    return  X,dec, y, prob"
   ]
  },
  {
   "cell_type": "code",
   "execution_count": 171,
   "metadata": {},
   "outputs": [],
   "source": [
    "# Teste com a XOR\n",
    "X = np.array([[0,0],[0,1],[1,0],[1,1]])\n",
    "y = np.array([[0],[1],[1],[0]])\n",
    "X_test = X\n",
    "X_train = X"
   ]
  },
  {
   "cell_type": "code",
   "execution_count": 118,
   "metadata": {},
   "outputs": [],
   "source": [
    "# dec, y, prob = pnn_classifier(X,y,0.5)"
   ]
  },
  {
   "cell_type": "code",
   "execution_count": 132,
   "metadata": {},
   "outputs": [],
   "source": [
    "# np.dot((1/sigma)*np.identity(len(y)),(X[0,:]-y)**2)"
   ]
  },
  {
   "cell_type": "code",
   "execution_count": 157,
   "metadata": {},
   "outputs": [],
   "source": [
    "X,dec, y, prob = pnn_classifier(X,y,0.5)"
   ]
  },
  {
   "cell_type": "code",
   "execution_count": 185,
   "metadata": {},
   "outputs": [],
   "source": [
    "# n_classes = len(my_data.groupby('<class_name_space>''))\n",
    "n_classes = len(np.unique(y))\n",
    "sigma = 0.5\n",
    "\n",
    "# sigma_mat = sigma*np.identity(len(y))\n",
    "# x_test = [0.8,0.2]\n",
    "# probability_map = {}\n",
    "# X_test = np.array([[0.5,0.5],[0.8,0.2],[0.4,0.7]])\n",
    "prob = np.zeros((X_test.shape[0],n_classes))\n",
    "\n",
    "## loop through all the X_test data (unclassified points)\n",
    "for point in range(0,X_test.shape[0]):\n",
    "    x_test = X_test[point,:] \n",
    "#     print(x_test)\n",
    "    ## loop through i-th class\n",
    "    for i in range(0,n_classes):\n",
    "        X_i = X[np.where(y==i)[0],:]\n",
    "        summ = 0.\n",
    "        ## loop through j-th element of the i-th class\n",
    "        for j in range(0,X_i.shape[0]):\n",
    "            ## norm L2 (sum of squares)\n",
    "            norm = 0.\n",
    "            ## loop through k-th feature\n",
    "            for k in range(0,X_i.shape[1]):\n",
    "                ## TODO: covariance form X*M*X'\n",
    "                norm = norm + (X_i[j,k]-x_test[k])*(X_i[j,k]-x_test[k])  \n",
    "            ## Summation of Gaussians\n",
    "            summ = summ + np.exp((-1/2)*(1/(sigma**2))*norm)\n",
    "        ## Average of Parzen Window (normalization term)\n",
    "        summ = summ/X_i.shape[0]\n",
    "        ## Decision boundary\n",
    "        prob[point, (i-1)] = summ"
   ]
  },
  {
   "cell_type": "code",
   "execution_count": 186,
   "metadata": {},
   "outputs": [],
   "source": [
    "# # argmax of each \n",
    "y_prob = np.asarray([max(prob[i,:]) for i in range(0,prob.shape[0])])\n",
    "y_bar = np.asarray([np.where(prob[ix,:] == max(prob[ix,:]))[0][0]+1 for ix in range(0,prob.shape[0])])"
   ]
  },
  {
   "cell_type": "code",
   "execution_count": 187,
   "metadata": {},
   "outputs": [
    {
     "data": {
      "text/plain": [
       "array([[0.36787944, 0.56766764],\n",
       "       [0.56766764, 0.36787944],\n",
       "       [0.56766764, 0.36787944],\n",
       "       [0.36787944, 0.56766764]])"
      ]
     },
     "execution_count": 187,
     "metadata": {},
     "output_type": "execute_result"
    }
   ],
   "source": [
    "prob"
   ]
  }
 ],
 "metadata": {
  "kernelspec": {
   "display_name": "Python 3",
   "language": "python",
   "name": "python3"
  },
  "language_info": {
   "codemirror_mode": {
    "name": "ipython",
    "version": 3
   },
   "file_extension": ".py",
   "mimetype": "text/x-python",
   "name": "python",
   "nbconvert_exporter": "python",
   "pygments_lexer": "ipython3",
   "version": "3.6.10"
  }
 },
 "nbformat": 4,
 "nbformat_minor": 4
}
