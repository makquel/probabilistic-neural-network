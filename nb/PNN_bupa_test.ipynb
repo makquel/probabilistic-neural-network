{
 "cells": [
  {
   "cell_type": "markdown",
   "metadata": {},
   "source": [
    "## BUPA liver data\n",
    "1. mcv:\tmean corpuscular volume\n",
    "2. alkphos:\talkaline phosphotase\n",
    "3. sgpt:\talamine aminotransferase\n",
    "4. sgot: \taspartate aminotransferase\n",
    "5. gammagt:\tgamma-glutamyl transpeptidase\n",
    "6. drinks:\tnumber of half-pint equivalents of alcoholic beverages drunk per day\n",
    "7. selector  field used to split data into two sets"
   ]
  },
  {
   "cell_type": "code",
   "execution_count": 2,
   "metadata": {},
   "outputs": [],
   "source": [
    "import numpy as np\n",
    "import pandas as pd\n",
    "from numpy import genfromtxt\n",
    "import matplotlib.pyplot as plt\n",
    "import seaborn as sns\n",
    "%matplotlib inline"
   ]
  },
  {
   "cell_type": "code",
   "execution_count": 4,
   "metadata": {},
   "outputs": [],
   "source": [
    "bupa_dataset = pd.read_csv('./bupa.data',sep=',',header=-1)  \n",
    "bupa_dataset.columns = ['mcv', 'alkphos','sgpt','sgot','gammagt','drinks','selector']"
   ]
  },
  {
   "cell_type": "code",
   "execution_count": 19,
   "metadata": {},
   "outputs": [],
   "source": [
    "# sns.set_style(\"dark\")\n",
    "# fig, ax = plt.subplots()\n",
    "# ax.margins(0.05) \n",
    "# ax = plt.gca()\n",
    "# # ax.set_xlim([0,1])\n",
    "# # ax.set_ylim([0,1])\n",
    "# # fig_dims = (7, 7)\n",
    "\n",
    "# sns.scatterplot(x=\"gammagt\", y=\"drinks\", hue=\"selector\",marker='o',data=bupa_dataset, ax=ax, palette=['green','orange'])\n",
    "# plt.xlabel(bupa_dataset.columns[4])\n",
    "# plt.ylabel(bupa_dataset.columns[5])\n",
    "# plt.show()\n",
    "# # plotar o KDE sem normalização"
   ]
  },
  {
   "cell_type": "code",
   "execution_count": 15,
   "metadata": {},
   "outputs": [
    {
     "name": "stderr",
     "output_type": "stream",
     "text": [
      "/home/makquel/anaconda3/envs/zika_maria/lib/python3.5/site-packages/sklearn/preprocessing/data.py:617: DataConversionWarning: Data with input dtype int64, float64 were all converted to float64 by StandardScaler.\n",
      "  return self.partial_fit(X, y)\n",
      "/home/makquel/anaconda3/envs/zika_maria/lib/python3.5/site-packages/ipykernel_launcher.py:5: DataConversionWarning: Data with input dtype int64, float64 were all converted to float64 by StandardScaler.\n",
      "  \"\"\"\n"
     ]
    }
   ],
   "source": [
    "from sklearn.preprocessing import StandardScaler\n",
    "scaler = StandardScaler()\n",
    "scaler.fit(bupa_dataset[['mcv', 'alkphos','sgpt','sgot','gammagt','drinks']])\n",
    "# print(scaler.mean_)\n",
    "bupa_dataset_scaled = scaler.transform(bupa_dataset[['mcv', 'alkphos','sgpt','sgot','gammagt','drinks']])\n",
    "bupa_dataset_scaled = np.append(bupa_dataset_scaled, bupa_dataset['selector'].values.reshape(-1,1), axis=1)\n",
    "bupa_dataset_norm = pd.DataFrame(data=bupa_dataset_scaled, columns=bupa_dataset.columns)"
   ]
  },
  {
   "cell_type": "code",
   "execution_count": null,
   "metadata": {},
   "outputs": [],
   "source": [
    "# sns.set_style(\"dark\")\n",
    "# fig, ax = plt.subplots()\n",
    "# ax.margins(0.05) \n",
    "# ax = plt.gca()\n",
    "# sns.scatterplot(x=\"gammagt\", y=\"drinks\", hue=\"selector\",marker='o',data=bupa_dataset_norm, ax=ax, palette=['green','orange'])\n",
    "# plt.xlabel(bupa_dataset_norm.columns[4])\n",
    "# plt.ylabel(bupa_dataset_norm.columns[5])\n",
    "# plt.show()"
   ]
  },
  {
   "cell_type": "code",
   "execution_count": 48,
   "metadata": {},
   "outputs": [
    {
     "name": "stdout",
     "output_type": "stream",
     "text": [
      "(145, 7)\n",
      "(200, 7)\n"
     ]
    }
   ],
   "source": [
    "print(bupa_dataset_norm[bupa_dataset_norm['selector']==1.].shape)\n",
    "print(bupa_dataset_norm[bupa_dataset_norm['selector']==2.].shape)"
   ]
  },
  {
   "cell_type": "code",
   "execution_count": 128,
   "metadata": {},
   "outputs": [],
   "source": [
    "from sklearn.model_selection import train_test_split\n",
    "X = bupa_dataset_norm[['mcv', 'alkphos','sgpt','sgot','gammagt','drinks']]\n",
    "y = bupa_dataset_norm['selector'].astype(int)\n",
    "X_train, X_test, y_train, y_test = train_test_split(X, y, test_size=0.30, random_state=42)"
   ]
  },
  {
   "cell_type": "code",
   "execution_count": 129,
   "metadata": {},
   "outputs": [],
   "source": [
    "# print(X.shape)\n",
    "# np.asarray(X_train)[0,:].shape\n",
    "X_train = np.asarray(X_train)\n",
    "y_train = np.asarray(y_train)\n",
    "X_test = np.asarray(X_test)\n",
    "y_test = np.asarray(y_test)\n",
    "prob = np.zeros((X_test.shape[0],max(y))) "
   ]
  },
  {
   "cell_type": "code",
   "execution_count": 106,
   "metadata": {},
   "outputs": [],
   "source": [
    "# X_train[np.where(y_train==1)[0],:]\n",
    "# prob.shape"
   ]
  },
  {
   "cell_type": "code",
   "execution_count": 95,
   "metadata": {},
   "outputs": [],
   "source": [
    "# X_test = np.array([[0.5,0.5],[0.8,0.2],[0.4,0.7]])\n",
    "# prob = np.zeros((X_test.shape[0],max(y)[0])) \n",
    "# X_train[0,:] "
   ]
  },
  {
   "cell_type": "code",
   "execution_count": 144,
   "metadata": {},
   "outputs": [],
   "source": [
    "# n_classes = len(my_data.groupby('<class_name_space>''))\n",
    "n_classes = max(y)\n",
    "sigma = 0.1\n",
    "\n",
    "# X_test = np.array([[0.5,0.5],[0.8,0.2],[0.4,0.7]])\n",
    "# prob = np.zeros((X_test.shape[0],max(y)[0]))\n",
    "\n",
    "## loop through all the X_test data (unclassified points)\n",
    "for point in range(0,X_test.shape[0]):\n",
    "    x_test = X_test[point,:] \n",
    "#     print(x_test)\n",
    "    ## loop through i-th class\n",
    "    for i in range(1,n_classes+1):\n",
    "        X_i = X_train[np.where(y_train == i)[0],:]\n",
    "        summ = 0.\n",
    "        ## loop through j-th element of the i-th class\n",
    "        for j in range(0,X_i.shape[0]):\n",
    "            ## norm L2 (sum of squares)\n",
    "            norm = 0.\n",
    "            ## loop through k-th feature\n",
    "            for k in range(0,X_i.shape[1]):\n",
    "                ## TODO: covariance form X*M*X'\n",
    "                norm = norm + (X_i[j,k]-x_test[k])*(X_i[j,k]-x_test[k])  \n",
    "            ## Summation of Gaussians\n",
    "            summ = summ + np.exp((-1/2)*(1/(2*sigma**2))*norm)\n",
    "        ## Average of Parzen Window (normalization term)\n",
    "        summ = summ/X_i.shape[0]\n",
    "        ## Decision boundary\n",
    "        prob[point, (i-1)] = summ\n",
    "\n",
    "# argmax of each \n",
    "y_prob = np.asarray([max(prob[i,:]) for i in range(0,prob.shape[0])])\n",
    "y_bar = np.asarray([np.where(prob[ix,:] == max(prob[ix,:]))[0][0]+1 for ix in range(0,prob.shape[0])])"
   ]
  },
  {
   "cell_type": "code",
   "execution_count": 145,
   "metadata": {},
   "outputs": [
    {
     "data": {
      "text/plain": [
       "0.625"
      ]
     },
     "execution_count": 145,
     "metadata": {},
     "output_type": "execute_result"
    }
   ],
   "source": [
    "from sklearn.metrics import accuracy_score\n",
    "accuracy_score(y_test, y_bar)"
   ]
  }
 ],
 "metadata": {
  "kernelspec": {
   "display_name": "Python 3",
   "language": "python",
   "name": "python3"
  },
  "language_info": {
   "codemirror_mode": {
    "name": "ipython",
    "version": 3
   },
   "file_extension": ".py",
   "mimetype": "text/x-python",
   "name": "python",
   "nbconvert_exporter": "python",
   "pygments_lexer": "ipython3",
   "version": "3.5.6"
  }
 },
 "nbformat": 4,
 "nbformat_minor": 4
}
